{
 "cells": [
  {
   "cell_type": "markdown",
   "id": "bd28c700-7776-4d77-b7fd-c6fd75f8f805",
   "metadata": {},
   "source": [
    "# Data Science Tools and Ecosystem\n",
    "In this notebook, Data Science Tools and Ecosystem are summarized\n",
    "\n",
    "__Objectives:__\n",
    "\n",
    "* List of Data Science languages.\n",
    "* List of Data Science libraries.\n",
    "* Tools in Data Science.\n",
    "* Few examples of Arithmetic Expressions.\n",
    "* Simple Arithmetic Expression to mutiply then add integers.\n",
    "* Converting minutes to hours.\n",
    "\n",
    "\n",
    "__List of data science language__\n",
    "\n",
    "Some of the popular languages that Data Scientists use are:\n",
    "\n",
    "1. Python\n",
    "2. R.\n",
    "3. Java\n",
    "4. SQL.\n",
    "5. C/C++\n",
    "6. JavaScript\n",
    "\n",
    "\n",
    "\n",
    "__List of data science libraries -__\n",
    "\n",
    "Some of the commonly used libraries used by Data Scientists include:\n",
    "\n",
    "1. TensorFlow\n",
    "2. NumPy\n",
    "3. SciPy\n",
    "4. Pandas\n",
    "5. Matplotlib\n",
    "6. PyTorch\n",
    "7. SciKit-Learn\n",
    "\n",
    "\n",
    "\n",
    "__Tools in Data Science -__\n",
    "\n",
    "| Data Science Tools |\n",
    "| ------------------ |\n",
    "| Apache Spark |\n",
    "| Mongo DB |\n",
    "| BigML |\n",
    "\n"
   ]
  },
  {
   "cell_type": "markdown",
   "id": "a768d799-c47d-4b79-87b1-4c76c87e7999",
   "metadata": {
    "tags": []
   },
   "source": [
    "### Below are a few examples of evaluating Arithmetic Expressions in Python"
   ]
  },
  {
   "cell_type": "code",
   "execution_count": 17,
   "id": "c0ea06d7-a00b-485c-9346-16961a95f0ed",
   "metadata": {
    "tags": []
   },
   "outputs": [
    {
     "name": "stdout",
     "output_type": "stream",
     "text": [
      "3\n"
     ]
    }
   ],
   "source": [
    "# Arithmetic Expressions\n",
    "code = (1 + 2)\n",
    "print(code)\n",
    "# Result: 3"
   ]
  },
  {
   "cell_type": "code",
   "execution_count": 18,
   "id": "f1586e3c-5d3c-4731-95d1-d7abfb699ddf",
   "metadata": {
    "tags": []
   },
   "outputs": [
    {
     "name": "stdout",
     "output_type": "stream",
     "text": [
      "6\n"
     ]
    }
   ],
   "source": [
    "code1 = (1 + 1)*3\n",
    "print(code1)\n",
    "# Result: 6"
   ]
  },
  {
   "cell_type": "code",
   "execution_count": 19,
   "id": "c5099651-46b0-455f-9684-cc0ab3ba7deb",
   "metadata": {
    "tags": []
   },
   "outputs": [
    {
     "name": "stdout",
     "output_type": "stream",
     "text": [
      "1\n"
     ]
    }
   ],
   "source": [
    "code2 = pow(1, 2)\n",
    "print(code2)\n",
    "# Result: 1"
   ]
  },
  {
   "cell_type": "code",
   "execution_count": 20,
   "id": "0fae8921-ac7f-46a8-986e-e4da886fdcad",
   "metadata": {
    "tags": []
   },
   "outputs": [
    {
     "name": "stdout",
     "output_type": "stream",
     "text": [
      "-1\n"
     ]
    }
   ],
   "source": [
    "code3 = (1-2)\n",
    "print(code3)\n",
    "# Result: -1"
   ]
  },
  {
   "cell_type": "code",
   "execution_count": 21,
   "id": "b148f6d4-8e8b-46da-8305-431f5e5af63f",
   "metadata": {
    "tags": []
   },
   "outputs": [
    {
     "name": "stdout",
     "output_type": "stream",
     "text": [
      "0.5\n"
     ]
    }
   ],
   "source": [
    "code4 = 1/2\n",
    "print(code4)\n",
    "# Result: 0.5"
   ]
  },
  {
   "cell_type": "code",
   "execution_count": 22,
   "id": "07ebab95-d106-42ac-9e85-a955ff8045ac",
   "metadata": {
    "tags": []
   },
   "outputs": [
    {
     "name": "stdout",
     "output_type": "stream",
     "text": [
      "5\n"
     ]
    }
   ],
   "source": [
    "# This a simple arithmetic expression to mutiply then add integers \n",
    "\n",
    "code5 = (1*2)+3 \n",
    "print(code5)   "
   ]
  },
  {
   "cell_type": "code",
   "execution_count": 23,
   "id": "14ffcdd5-e538-4d1d-ab17-7f6cf0cd20cf",
   "metadata": {
    "tags": []
   },
   "outputs": [
    {
     "name": "stdout",
     "output_type": "stream",
     "text": [
      "2.0\n"
     ]
    }
   ],
   "source": [
    "# Convert minutes to hours\n",
    "# This will convert 120 minutes to hours by diving by 60\n",
    "code6 = 120/60\n",
    "print(code6)"
   ]
  },
  {
   "cell_type": "markdown",
   "id": "b10e10ab-5f03-43db-99df-312778e393a1",
   "metadata": {},
   "source": [
    "## Author: \n",
    "Omar Nadeem Siddique"
   ]
  },
  {
   "cell_type": "code",
   "execution_count": null,
   "id": "53d44dd5-33aa-4654-b3c8-a99131b4119e",
   "metadata": {},
   "outputs": [],
   "source": []
  }
 ],
 "metadata": {
  "kernelspec": {
   "display_name": "Python 3 (ipykernel)",
   "language": "python",
   "name": "python3"
  },
  "language_info": {
   "codemirror_mode": {
    "name": "ipython",
    "version": 3
   },
   "file_extension": ".py",
   "mimetype": "text/x-python",
   "name": "python",
   "nbconvert_exporter": "python",
   "pygments_lexer": "ipython3",
   "version": "3.12.4"
  }
 },
 "nbformat": 4,
 "nbformat_minor": 5
}
